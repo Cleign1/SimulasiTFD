{
 "cells": [
  {
   "cell_type": "code",
   "execution_count": 1,
   "metadata": {},
   "outputs": [],
   "source": [
    "import urllib.request\n",
    "import zipfile\n",
    "import tensorflow as tf\n",
    "import os\n",
    "from keras_preprocessing.image import ImageDataGenerator\n",
    "from tensorflow.keras.optimizers import RMSprop"
   ]
  },
  {
   "cell_type": "code",
   "execution_count": 2,
   "metadata": {},
   "outputs": [
    {
     "name": "stdout",
     "output_type": "stream",
     "text": [
      "Found 1027 images belonging to 2 classes.\n",
      "Found 256 images belonging to 2 classes.\n"
     ]
    }
   ],
   "source": [
    "TRAINING_DIR = 'data/horse-or-human'\n",
    "train_datagen = ImageDataGenerator(rescale=1/255)\n",
    "\n",
    "# YOUR IMAGE SIZE SHOULD BE 150x150\n",
    "train_generator = train_datagen.flow_from_directory('C:\\Code\\SubmissionDicoding\\Submission A\\data\\horse-or-human',\n",
    "                                                batch_size=128,\n",
    "                                                class_mode='binary',\n",
    "                                                target_size=(150, 150))\n",
    "\n",
    "validation_datagen = ImageDataGenerator(rescale=1/255)\n",
    "\n",
    "validation_generator = validation_datagen.flow_from_directory('C:\\Code\\SubmissionDicoding\\Submission A\\data\\\\validation-horse-or-human',\n",
    "                                                            batch_size=32,\n",
    "                                                            class_mode='binary',\n",
    "                                                            target_size=(150, 150))\n"
   ]
  },
  {
   "cell_type": "code",
   "execution_count": 3,
   "metadata": {},
   "outputs": [],
   "source": [
    "model = tf.keras.models.Sequential([\n",
    "    # Note the input shape is the desired size of the image 150x150 with 3 bytes color\n",
    "    # No.1 Conv2D\n",
    "    tf.keras.layers.Conv2D(16, (3,3), activation='relu', input_shape=(150, 150, 3)),\n",
    "    tf.keras.layers.MaxPooling2D(2, 2),\n",
    "    # No.2 Conv2D\n",
    "    tf.keras.layers.Conv2D(32, (3,3), activation='relu'),\n",
    "    tf.keras.layers.MaxPooling2D(2,2),\n",
    "    # No.3 Conv2D\n",
    "    tf.keras.layers.Conv2D(64, (3,3), activation='relu'),\n",
    "    tf.keras.layers.MaxPooling2D(2,2),\n",
    "    # No.4 Conv2D\n",
    "    tf.keras.layers.Conv2D(64, (3,3), activation='relu'),\n",
    "    tf.keras.layers.MaxPooling2D(2,2),\n",
    "    # No.5 Conv2D\n",
    "    tf.keras.layers.Conv2D(64, (3,3), activation='relu'),\n",
    "    tf.keras.layers.MaxPooling2D(2,2),\n",
    "    # Flatten\n",
    "    tf.keras.layers.Flatten(),\n",
    "    tf.keras.layers.Dense(512, activation='relu'),\n",
    "    # YOUR CODE HERE, end with a Neuron Dense, activated by sigmoid\n",
    "    tf.keras.layers.Dense(1, activation='sigmoid')\n",
    "])\n",
    "\n",
    "model.compile(optimizer=RMSprop(learning_rate=0.001),\n",
    "                loss = 'binary_crossentropy',\n",
    "                metrics = ['accuracy'])"
   ]
  },
  {
   "cell_type": "code",
   "execution_count": 4,
   "metadata": {},
   "outputs": [
    {
     "name": "stdout",
     "output_type": "stream",
     "text": [
      "Epoch 1/10\n",
      "8/8 [==============================] - 20s 2s/step - loss: 0.6732 - accuracy: 0.5918 - val_loss: 2.0801 - val_accuracy: 0.5000\n",
      "Epoch 2/10\n",
      "8/8 [==============================] - 6s 768ms/step - loss: 0.8485 - accuracy: 0.6485 - val_loss: 0.6303 - val_accuracy: 0.5859\n",
      "Epoch 3/10\n",
      "8/8 [==============================] - 6s 906ms/step - loss: 0.5661 - accuracy: 0.7419 - val_loss: 0.5159 - val_accuracy: 0.7539\n",
      "Epoch 4/10\n",
      "8/8 [==============================] - 6s 778ms/step - loss: 0.3248 - accuracy: 0.8932 - val_loss: 1.4870 - val_accuracy: 0.5781\n",
      "Epoch 5/10\n",
      "8/8 [==============================] - 6s 786ms/step - loss: 0.2646 - accuracy: 0.8921 - val_loss: 0.8695 - val_accuracy: 0.7656\n",
      "Epoch 6/10\n",
      "8/8 [==============================] - 5s 630ms/step - loss: 0.1718 - accuracy: 0.9433 - val_loss: 0.6395 - val_accuracy: 0.8516\n",
      "Epoch 7/10\n",
      "8/8 [==============================] - 5s 602ms/step - loss: 0.2765 - accuracy: 0.9143 - val_loss: 0.5782 - val_accuracy: 0.8516\n",
      "Epoch 8/10\n",
      "8/8 [==============================] - 5s 602ms/step - loss: 0.0993 - accuracy: 0.9689 - val_loss: 0.6534 - val_accuracy: 0.8672\n",
      "Epoch 9/10\n",
      "8/8 [==============================] - 5s 620ms/step - loss: 0.0736 - accuracy: 0.9755 - val_loss: 0.4872 - val_accuracy: 0.8672\n",
      "Epoch 10/10\n",
      "8/8 [==============================] - 5s 596ms/step - loss: 0.1625 - accuracy: 0.9410 - val_loss: 0.7732 - val_accuracy: 0.8672\n"
     ]
    },
    {
     "data": {
      "text/plain": [
       "<keras.callbacks.History at 0x20650c32fe0>"
      ]
     },
     "execution_count": 4,
     "metadata": {},
     "output_type": "execute_result"
    }
   ],
   "source": [
    "model.fit(train_generator,\n",
    "            steps_per_epoch=8,  \n",
    "            epochs=10,\n",
    "            verbose=1,\n",
    "            validation_data = validation_generator,\n",
    "            validation_steps=8)"
   ]
  },
  {
   "cell_type": "code",
   "execution_count": 5,
   "metadata": {},
   "outputs": [],
   "source": [
    "model.save(\"model_A2.h5\")"
   ]
  },
  {
   "cell_type": "code",
   "execution_count": 7,
   "metadata": {},
   "outputs": [
    {
     "name": "stdout",
     "output_type": "stream",
     "text": [
      "8/8 [==============================] - 1s 87ms/step - loss: 0.7732 - accuracy: 0.8672\n"
     ]
    },
    {
     "data": {
      "text/plain": [
       "[0.7732415199279785, 0.8671875]"
      ]
     },
     "execution_count": 7,
     "metadata": {},
     "output_type": "execute_result"
    }
   ],
   "source": [
    "model.evaluate(validation_generator)"
   ]
  }
 ],
 "metadata": {
  "language_info": {
   "name": "python"
  }
 },
 "nbformat": 4,
 "nbformat_minor": 2
}
