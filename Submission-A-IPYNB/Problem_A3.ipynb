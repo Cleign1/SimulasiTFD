{
 "cells": [
  {
   "cell_type": "markdown",
   "metadata": {},
   "source": [
    "======================================================================================================\n",
    "PROBLEM A3\n",
    "\n",
    "Build a classifier for the Human or Horse Dataset with Transfer Learning.\n",
    "The test will expect it to classify binary classes.\n",
    "Note that all the layers in the pre-trained model are non-trainable.\n",
    "Do not use lambda layers in your model.\n",
    "\n",
    "The horse-or-human dataset used in this problem is created by Laurence Moroney (laurencemoroney.com).\n",
    "Inception_v3, pre-trained model used in this problem is developed by Google.\n",
    "\n",
    "Desired accuracy and validation_accuracy > 97%.\n",
    "=======================================================================================================\n"
   ]
  },
  {
   "cell_type": "code",
   "execution_count": 1,
   "metadata": {},
   "outputs": [],
   "source": [
    "import urllib.request\n",
    "import zipfile\n",
    "import tensorflow as tf\n",
    "from keras_preprocessing.image import ImageDataGenerator\n",
    "from tensorflow.keras.optimizers import RMSprop\n",
    "from tensorflow.keras import layers\n",
    "from tensorflow.keras import Model\n",
    "from tensorflow.keras.applications.inception_v3 import InceptionV3"
   ]
  },
  {
   "cell_type": "code",
   "execution_count": null,
   "metadata": {},
   "outputs": [],
   "source": [
    "data_url_1 = 'https://github.com/dicodingacademy/assets/releases/download/release-horse-or-human/horse-or-human.zip'\n",
    "urllib.request.urlretrieve(data_url_1, 'horse-or-human.zip')\n",
    "local_file = 'horse-or-human.zip'\n",
    "zip_ref = zipfile.ZipFile(local_file, 'r')\n",
    "zip_ref.extractall('data/horse-or-human')\n",
    "zip_ref.close()\n",
    "\n",
    "data_url_2 = 'https://github.com/dicodingacademy/assets/raw/main/Simulation/machine_learning/validation-horse-or-human.zip'\n",
    "urllib.request.urlretrieve(data_url_2, 'validation-horse-or-human.zip')\n",
    "local_file = 'validation-horse-or-human.zip'\n",
    "zip_ref = zipfile.ZipFile(local_file, 'r')\n",
    "zip_ref.extractall('data/validation-horse-or-human')\n",
    "zip_ref.close()"
   ]
  },
  {
   "cell_type": "code",
   "execution_count": 2,
   "metadata": {},
   "outputs": [
    {
     "name": "stdout",
     "output_type": "stream",
     "text": [
      "Found 1027 images belonging to 2 classes.\n",
      "Found 256 images belonging to 2 classes.\n"
     ]
    }
   ],
   "source": [
    "train_dir = 'data/horse-or-human'\n",
    "validation_dir = 'data/validation-horse-or-human'\n",
    "\n",
    "train_datagen = ImageDataGenerator(\n",
    "    # YOUR CODE HERE\n",
    "    rescale=1./255.,\n",
    "    rotation_range= 40,\n",
    "    width_shift_range= 0.2,\n",
    "    height_shift_range= 0.2,\n",
    "    shear_range= 0.2,\n",
    "    zoom_range= 0.2,\n",
    "    horizontal_flip= True\n",
    ")\n",
    "\n",
    "train_generator = train_datagen.flow_from_directory(\n",
    "    directory=train_dir,\n",
    "    batch_size=32,\n",
    "    class_mode='binary',\n",
    "    target_size=(150,150))\n",
    "\n",
    "# YOUR IMAGE SIZE SHOULD BE 150x150\n",
    "# YOUR CODE HERE\n",
    "validation_datagen=  ImageDataGenerator(\n",
    "    rescale=1./255.,\n",
    "    rotation_range= 40,\n",
    "    width_shift_range= 0.2,\n",
    "    height_shift_range= 0.2,\n",
    "    shear_range= 0.2,\n",
    "    zoom_range= 0.2,\n",
    "    horizontal_flip= True\n",
    ")\n",
    "\n",
    "validation_generator = validation_datagen.flow_from_directory(\n",
    "    directory=validation_dir,\n",
    "    batch_size=32,\n",
    "    class_mode='binary',\n",
    "    target_size= (150, 150)\n",
    ")"
   ]
  },
  {
   "cell_type": "code",
   "execution_count": 3,
   "metadata": {},
   "outputs": [],
   "source": [
    "inceptionv3 = 'https://storage.googleapis.com/mledu-datasets/inception_v3_weights_tf_dim_ordering_tf_kernels_notop.h5'\n",
    "urllib.request.urlretrieve(\n",
    "    inceptionv3, 'inception_v3_weights_tf_dim_ordering_tf_kernels_notop.h5')\n",
    "local_weights_file = 'inception_v3_weights_tf_dim_ordering_tf_kernels_notop.h5'"
   ]
  },
  {
   "cell_type": "code",
   "execution_count": 4,
   "metadata": {},
   "outputs": [],
   "source": [
    "def create_pre_trained_model(local_weights_file):\n",
    "  pre_trained_model = InceptionV3(input_shape = (150, 150, 3),\n",
    "                                  include_top = False,\n",
    "                                  weights = None)\n",
    "\n",
    "  pre_trained_model.load_weights(local_weights_file)\n",
    "\n",
    "  for layer in pre_trained_model.layers:\n",
    "    layer.trainable = False\n",
    "\n",
    "  return pre_trained_model"
   ]
  },
  {
   "cell_type": "code",
   "execution_count": 5,
   "metadata": {},
   "outputs": [],
   "source": [
    "pre_trained_model = create_pre_trained_model(local_weights_file)"
   ]
  },
  {
   "cell_type": "code",
   "execution_count": 6,
   "metadata": {},
   "outputs": [],
   "source": [
    "class myCallback(tf.keras.callbacks.Callback):\n",
    "  def on_epoch_end(self, epoch, logs={}):\n",
    "    if(logs.get('accuracy')>0.98):\n",
    "      print(\"\\nReached 98% accuracy so cancelling training!\")\n",
    "      self.model.stop_training = True"
   ]
  },
  {
   "cell_type": "code",
   "execution_count": 7,
   "metadata": {},
   "outputs": [],
   "source": [
    "last_layer = last_layer = pre_trained_model.get_layer('mixed7')"
   ]
  },
  {
   "cell_type": "code",
   "execution_count": 8,
   "metadata": {},
   "outputs": [],
   "source": [
    "x = layers.Flatten()(last_layer.output)\n",
    "x = layers.Dense(1024, activation='relu')(x)\n",
    "x = layers.Dropout(0.2)(x)\n",
    "x = layers.Dense(1, activation='sigmoid')(x)\n",
    "\n",
    "model = Model(pre_trained_model.input, x)\n",
    "\n",
    "model.compile(optimizer = RMSprop(learning_rate=0.0001),\n",
    "              loss = 'binary_crossentropy',\n",
    "              metrics = ['accuracy'])"
   ]
  },
  {
   "cell_type": "code",
   "execution_count": 9,
   "metadata": {},
   "outputs": [
    {
     "name": "stdout",
     "output_type": "stream",
     "text": [
      "Epoch 1/100\n",
      "33/33 [==============================] - 24s 485ms/step - loss: 0.1943 - accuracy: 0.9299 - val_loss: 0.2819 - val_accuracy: 0.9023\n",
      "Epoch 2/100\n",
      "33/33 [==============================] - ETA: 0s - loss: 0.0370 - accuracy: 0.9873\n",
      "Reached 98% accuracy so cancelling training!\n",
      "33/33 [==============================] - 12s 359ms/step - loss: 0.0370 - accuracy: 0.9873 - val_loss: 0.0531 - val_accuracy: 0.9844\n"
     ]
    }
   ],
   "source": [
    "callbacks = myCallback()\n",
    "history = model.fit(train_generator,\n",
    "                    validation_data = validation_generator,\n",
    "                    epochs = 100,\n",
    "                    callbacks=callbacks)"
   ]
  },
  {
   "cell_type": "code",
   "execution_count": 10,
   "metadata": {},
   "outputs": [],
   "source": [
    "model.save(\"model_A3.h5\")"
   ]
  }
 ],
 "metadata": {
  "kernelspec": {
   "display_name": "env",
   "language": "python",
   "name": "python3"
  },
  "language_info": {
   "codemirror_mode": {
    "name": "ipython",
    "version": 3
   },
   "file_extension": ".py",
   "mimetype": "text/x-python",
   "name": "python",
   "nbconvert_exporter": "python",
   "pygments_lexer": "ipython3",
   "version": "3.10.11"
  }
 },
 "nbformat": 4,
 "nbformat_minor": 2
}
