{
 "cells": [
  {
   "cell_type": "markdown",
   "metadata": {},
   "source": [
    "==========================================================================================================\n",
    "PROBLEM A4\n",
    "Build and train a binary classifier for the IMDB review dataset.\n",
    "The classifier should have a final layer with 1 neuron activated by sigmoid.\n",
    "Do not use lambda layers in your model.\n",
    "The dataset used in this problem is originally published in http://ai.stanford.edu/~amaas/data/sentiment/\n",
    "Desired accuracy and validation_accuracy > 83%\n",
    "===========================================================================================================\n"
   ]
  },
  {
   "cell_type": "code",
   "execution_count": 1,
   "metadata": {},
   "outputs": [],
   "source": [
    "import tensorflow as tf\n",
    "import tensorflow_datasets as tfds\n",
    "import numpy as np\n",
    "from tensorflow.keras.preprocessing.text import Tokenizer\n",
    "from tensorflow.keras.preprocessing.sequence import pad_sequences"
   ]
  },
  {
   "cell_type": "code",
   "execution_count": 2,
   "metadata": {},
   "outputs": [],
   "source": [
    "imdb, info = tfds.load(\"imdb_reviews\", with_info=True, as_supervised=True)\n",
    "# YOUR CODE HERE\n",
    "train_data, test_data = imdb['train'], imdb['test']\n",
    "\n",
    "train_sentences = []\n",
    "testing_sentences = []\n",
    "train_label = []\n",
    "testing_label = []"
   ]
  },
  {
   "cell_type": "code",
   "execution_count": 3,
   "metadata": {},
   "outputs": [],
   "source": [
    "# DO NOT CHANGE THIS CODE\n",
    "for s, l in train_data:\n",
    "    train_sentences.append(s.numpy().decode('utf8'))\n",
    "    train_label.append(l.numpy())\n",
    "\n",
    "for s, l in test_data:\n",
    "    testing_sentences.append(s.numpy().decode('utf8'))\n",
    "    testing_label.append(l.numpy())"
   ]
  },
  {
   "cell_type": "code",
   "execution_count": 4,
   "metadata": {},
   "outputs": [],
   "source": [
    "# DO NOT CHANGE THIS CODE\n",
    "# Make sure you used all of these parameters or test may fail\n",
    "vocab_size = 10000\n",
    "embedding_dim = 16\n",
    "max_length = 120\n",
    "trunc_type = 'post'\n",
    "oov_tok = \"<OOV>\""
   ]
  },
  {
   "cell_type": "code",
   "execution_count": 28,
   "metadata": {},
   "outputs": [],
   "source": [
    "# Fit your tokenizer with training data\n",
    "# YOUR CODE HERE\n",
    "tokenizer = Tokenizer(num_words=vocab_size, oov_token=oov_tok)\n",
    "tokenizer.fit_on_texts(train_sentences)\n",
    "\n",
    "train_sequences = tokenizer.texts_to_sequences(train_sentences)\n",
    "train_padded = pad_sequences(train_sequences, maxlen=max_length, truncating=trunc_type)\n",
    "\n",
    "test_sequences = tokenizer.texts_to_sequences(testing_sentences)\n",
    "test_padded = pad_sequences(test_sequences, maxlen=max_length)\n",
    "\n",
    "train_labels_final = np.array(train_label)\n",
    "test_labels_final = np.array(testing_label)"
   ]
  },
  {
   "cell_type": "code",
   "execution_count": 34,
   "metadata": {},
   "outputs": [],
   "source": [
    "model = tf.keras.Sequential([\n",
    "    # YOUR CODE HERE. Do not change the last layer.\n",
    "    tf.keras.layers.Embedding(vocab_size, embedding_dim, input_length=max_length),\n",
    "    tf.keras.layers.Flatten(),\n",
    "    tf.keras.layers.Dense(32, activation='relu'),\n",
    "    tf.keras.layers.Dropout(0.1),\n",
    "    tf.keras.layers.Dense(1, activation='sigmoid')\n",
    "])\n",
    "\n",
    "model.compile(loss='binary_crossentropy',\n",
    "              optimizer='adam',\n",
    "              metrics=['accuracy'])"
   ]
  },
  {
   "cell_type": "code",
   "execution_count": 35,
   "metadata": {},
   "outputs": [
    {
     "name": "stdout",
     "output_type": "stream",
     "text": [
      "Epoch 1/10\n",
      "782/782 [==============================] - 8s 9ms/step - loss: 0.4735 - accuracy: 0.7569 - val_loss: 0.3471 - val_accuracy: 0.8477\n",
      "Epoch 2/10\n",
      "782/782 [==============================] - 7s 9ms/step - loss: 0.2156 - accuracy: 0.9185 - val_loss: 0.3978 - val_accuracy: 0.8298\n",
      "Epoch 3/10\n",
      "782/782 [==============================] - 7s 9ms/step - loss: 0.0548 - accuracy: 0.9867 - val_loss: 0.5450 - val_accuracy: 0.8188\n",
      "Epoch 4/10\n",
      "782/782 [==============================] - 7s 9ms/step - loss: 0.0105 - accuracy: 0.9983 - val_loss: 0.6430 - val_accuracy: 0.8215\n",
      "Epoch 5/10\n",
      "782/782 [==============================] - 7s 9ms/step - loss: 0.0020 - accuracy: 1.0000 - val_loss: 0.7044 - val_accuracy: 0.8290\n",
      "Epoch 6/10\n",
      "782/782 [==============================] - 7s 9ms/step - loss: 6.3069e-04 - accuracy: 1.0000 - val_loss: 0.7556 - val_accuracy: 0.8279\n",
      "Epoch 7/10\n",
      "782/782 [==============================] - 7s 9ms/step - loss: 3.2112e-04 - accuracy: 1.0000 - val_loss: 0.7940 - val_accuracy: 0.8289\n",
      "Epoch 8/10\n",
      "782/782 [==============================] - 8s 10ms/step - loss: 1.9919e-04 - accuracy: 1.0000 - val_loss: 0.8339 - val_accuracy: 0.8297\n",
      "Epoch 9/10\n",
      "782/782 [==============================] - 8s 10ms/step - loss: 1.1890e-04 - accuracy: 1.0000 - val_loss: 0.8696 - val_accuracy: 0.8306\n",
      "Epoch 10/10\n",
      "782/782 [==============================] - 8s 10ms/step - loss: 7.9758e-05 - accuracy: 1.0000 - val_loss: 0.9052 - val_accuracy: 0.8322\n"
     ]
    },
    {
     "data": {
      "text/plain": [
       "<keras.callbacks.History at 0x207a44d0160>"
      ]
     },
     "execution_count": 35,
     "metadata": {},
     "output_type": "execute_result"
    }
   ],
   "source": [
    "model.fit(train_padded, train_labels_final,\n",
    "          epochs=10,\n",
    "          validation_data=(test_padded, test_labels_final))"
   ]
  },
  {
   "cell_type": "code",
   "execution_count": 39,
   "metadata": {},
   "outputs": [],
   "source": [
    "model.save(\"model_A4.h5\")"
   ]
  }
 ],
 "metadata": {
  "kernelspec": {
   "display_name": "env",
   "language": "python",
   "name": "python3"
  },
  "language_info": {
   "codemirror_mode": {
    "name": "ipython",
    "version": 3
   },
   "file_extension": ".py",
   "mimetype": "text/x-python",
   "name": "python",
   "nbconvert_exporter": "python",
   "pygments_lexer": "ipython3",
   "version": "3.10.11"
  }
 },
 "nbformat": 4,
 "nbformat_minor": 2
}
