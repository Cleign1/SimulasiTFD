{
 "cells": [
  {
   "cell_type": "markdown",
   "metadata": {},
   "source": [
    "# ==========================================================================================================\n",
    "# PROBLEM A4\n",
    "#\n",
    "# Build and train a binary classifier for the IMDB review dataset.\n",
    "# The classifier should have a final layer with 1 neuron activated by sigmoid.\n",
    "# Do not use lambda layers in your model.\n",
    "#\n",
    "# The dataset used in this problem is originally published in http://ai.stanford.edu/~amaas/data/sentiment/\n",
    "#\n",
    "# Desired accuracy and validation_accuracy > 83%\n",
    "# ===========================================================================================================\n"
   ]
  },
  {
   "cell_type": "code",
   "execution_count": null,
   "metadata": {},
   "outputs": [],
   "source": [
    "import tensorflow as tf\n",
    "import tensorflow_datasets as tfds\n",
    "import numpy as np\n",
    "from tensorflow.keras.preprocessing.text import Tokenizer\n",
    "from tensorflow.keras.preprocessing.sequence import pad_sequences"
   ]
  },
  {
   "cell_type": "code",
   "execution_count": null,
   "metadata": {},
   "outputs": [],
   "source": [
    "imdb, info = tfds.load(\"imdb_reviews\", with_info=True, as_supervised=True)\n",
    "# YOUR CODE HERE\n",
    "\n",
    "# DO NOT CHANGE THIS CODE\n",
    "for s, l in train_data:\n",
    "    training_sentences.append(s.numpy().decode('utf8'))\n",
    "    training_labels.append(l.numpy())\n",
    "\n",
    "for s, l in test_data:\n",
    "    testing_sentences.append(s.numpy().decode('utf8'))\n",
    "    testing_labels.append(l.numpy())"
   ]
  }
 ],
 "metadata": {
  "kernelspec": {
   "display_name": "env",
   "language": "python",
   "name": "python3"
  },
  "language_info": {
   "name": "python",
   "version": "3.10.11"
  }
 },
 "nbformat": 4,
 "nbformat_minor": 2
}
